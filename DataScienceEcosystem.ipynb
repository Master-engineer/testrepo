{
 "cells": [
  {
   "cell_type": "markdown",
   "id": "8f331865-e041-4356-b03b-cf58001b05a2",
   "metadata": {},
   "source": [
    "# Data Science Tools and Ecosystem"
   ]
  },
  {
   "cell_type": "markdown",
   "id": "d846ccbd-bda4-4eb2-aad9-65e9f475c3fd",
   "metadata": {},
   "source": [
    "#### In this notebook, Data Science Tools and Ecosystem are summarized."
   ]
  },
  {
   "cell_type": "markdown",
   "id": "6e8a08dd-ce08-48b4-82a3-478ea9c916f8",
   "metadata": {},
   "source": [
    "***Objectives***\n",
    " * List Popular Languages for Data Science\n",
    " * List Popular Libraries for Data Science\n",
    " * List Some of Data Science Tools\n",
    " * Express some aritmethic expressions"
   ]
  },
  {
   "cell_type": "markdown",
   "id": "718c5154-2287-4753-8484-069521e9eaf7",
   "metadata": {
    "jp-MarkdownHeadingCollapsed": true
   },
   "source": [
    "#### Some of the popular languages that Data Scientists use are: \n",
    "1. Python\n",
    "2. R\n",
    "3. Julia\n",
    "4. Java\n",
    "5. C / C++"
   ]
  },
  {
   "cell_type": "markdown",
   "id": "4aada6de-e08e-4feb-a7c1-d66efb87376d",
   "metadata": {},
   "source": [
    "#### Some of the commonly used libraries used by Data Scientists include:\n",
    "1. NumPy\n",
    "2. Pandas\n",
    "3. SciPy\n",
    "4. Statsmodels"
   ]
  },
  {
   "cell_type": "markdown",
   "id": "6315bc7c-7541-42e6-8b86-cdeaaddcf91b",
   "metadata": {},
   "source": [
    "| Data Science Tools     |\n",
    "| ---------------------- |\n",
    "| MySQL/PostgreSQL (Relational Database) |\n",
    "| MongoDB/Apache Cassandra/Apache CouchDB (Not Only SQL ) |\n",
    "| Hadoop HDFS (Cloud Based Database)|"
   ]
  },
  {
   "cell_type": "markdown",
   "id": "cc7d549b-fcc9-40f0-a893-8182c73ebb65",
   "metadata": {},
   "source": [
    "### Below are a few examples of evaluating arithmetic expressions in Python"
   ]
  },
  {
   "cell_type": "code",
   "execution_count": 1,
   "id": "d89ff2ed-d54e-4f09-8876-16a5d6140e26",
   "metadata": {},
   "outputs": [
    {
     "data": {
      "text/plain": [
       "17"
      ]
     },
     "execution_count": 1,
     "metadata": {},
     "output_type": "execute_result"
    }
   ],
   "source": [
    "## This a simple arithmetic expression to mutiply then add integers\n",
    "\n",
    "(3*4)+5"
   ]
  },
  {
   "cell_type": "code",
   "execution_count": 2,
   "id": "31f18d40-31f4-481c-be73-9b4008a39952",
   "metadata": {},
   "outputs": [
    {
     "data": {
      "text/plain": [
       "3.3333333333333335"
      ]
     },
     "execution_count": 2,
     "metadata": {},
     "output_type": "execute_result"
    }
   ],
   "source": [
    "## This will convert 200 minutes to hours by diving by 60\n",
    "200/60"
   ]
  },
  {
   "cell_type": "markdown",
   "id": "122c7c55-b8ef-4388-bfd7-03c9dc002937",
   "metadata": {},
   "source": [
    "## Author\n",
    "#### Basak Metiner"
   ]
  }
 ],
 "metadata": {
  "kernelspec": {
   "display_name": "Python 3 (ipykernel)",
   "language": "python",
   "name": "python3"
  },
  "language_info": {
   "codemirror_mode": {
    "name": "ipython",
    "version": 3
   },
   "file_extension": ".py",
   "mimetype": "text/x-python",
   "name": "python",
   "nbconvert_exporter": "python",
   "pygments_lexer": "ipython3",
   "version": "3.12.5"
  }
 },
 "nbformat": 4,
 "nbformat_minor": 5
}
